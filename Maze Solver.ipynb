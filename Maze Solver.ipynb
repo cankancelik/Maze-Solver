{
  "nbformat": 4,
  "nbformat_minor": 0,
  "metadata": {
    "colab": {
      "name": "12_02_Deneme.ipynb",
      "provenance": [],
      "collapsed_sections": []
    },
    "kernelspec": {
      "name": "python3",
      "display_name": "Python 3"
    },
    "language_info": {
      "name": "python"
    }
  },
  "cells": [
    {
      "cell_type": "markdown",
      "source": [
        "# Project: Köşe Kapmaca\n"
      ],
      "metadata": {
        "id": "A_-DJzKsbQjN"
      }
    },
    {
      "cell_type": "markdown",
      "source": [
        "## Brief project definition"
      ],
      "metadata": {
        "id": "25ppr0Ek_RcP"
      }
    },
    {
      "cell_type": "markdown",
      "source": [
        "\n",
        "- Each group submit a group_name.py file, exactly one of the names that is defined below in ```group_names``` list.\n",
        "- the file should be self sufficient and one we import it, we should be able to create an instance of your solver/player\n",
        "- external dependencies should be PIP installable and included in your ```group_name.py``` file\n",
        "- a template file is given as [ME461Group.py](https://raw.githubusercontent.com/bugrakoku/classypy/main/ME461Group.py), you can edit this file and save it properly and submit it. As of now it is a random player.\n",
        "\n",
        "Tournament: count down from 301  \n",
        "\n",
        "When tournament starts a maze image (nxmx3 tensor) will be given to your function named ```solverobject.run(img, info)``` where ```info``` is a dictionary where group names are the keys and values contain location of each robot and remaining points that robot has to reach down to 0.\n",
        "\n",
        "Your function should return a list of points ```[(),(),...]``` where your current point is not included in this list, the first point is the first point you want to reach.  \n",
        "Fasters execution time will get N pixel travel at max. Therefore the total length of the path in your list should be N. Fastest code will move upto N, and the slowest N/2.\n",
        "\n",
        "Corridors and bases are in 50 pixels in size.\n",
        "\n",
        "After calling the ```solverobject.run()``` function for all groups, system will update the locations based on exeution times, if a base is taken by a robot, update the robots points, locate it randomly around that base and turn the base to a wall, where walls are not bases. \n",
        "\n",
        "- if all bases are taken, i.e. no points left on the game board or points do not change for 12 steps, the whoel maze will be refreshed with a new board.\n",
        "- you should be ready to play alone, against one opponent or against everyone\n",
        "- points for colors and how many of them there will be in the maze are in the list ```colorz```, this will not change: bases will have points in between [1,...,9] x 3, [10, 20, 30, 50] x 2\n",
        ", [100] x 1 where the rest will be just black with 0 points\n",
        "- when a base is taken by a player, that base will turn black\n",
        "- black bases are NOT walls, you can pass through them, but you will not get any points\n",
        "- if your point drops below 0, you are out of the game as a [**loser**](https://youtu.be/_xEcC6ULakE?t=11)\n",
        "- The player that gets 0 first is the winner, rest will be sorted based on remaining points.\n",
        "\n",
        "Check out the following implementation and make a copy of this notebook and test your implementation with the updated version of this notebook.  \n",
        "\n",
        "The following is mostly complete but does not end the game one someone hits zero for the first time. This is left on purpose but will change during the games.  \n",
        "\n",
        "If you spot bugs, please [report it here](https://odtuclass2021f.metu.edu.tr/mod/forum/discuss.php?d=27672)\n",
        "\n"
      ],
      "metadata": {
        "id": "jHipuJAX_aN2"
      }
    },
    {
      "cell_type": "markdown",
      "source": [
        "# Let's get started with coding"
      ],
      "metadata": {
        "id": "b5hOgf-J_XKl"
      }
    },
    {
      "cell_type": "markdown",
      "source": [
        "## Start with imports"
      ],
      "metadata": {
        "id": "ZvNhNsvNcTGS"
      }
    },
    {
      "cell_type": "code",
      "execution_count": null,
      "metadata": {
        "id": "ipRknKEoa8lc",
        "colab": {
          "base_uri": "https://localhost:8080/"
        },
        "outputId": "befdba64-6eb9-451a-e03f-125414664cf9"
      },
      "outputs": [
        {
          "output_type": "stream",
          "name": "stdout",
          "text": [
            "Number of processors:  2\n"
          ]
        }
      ],
      "source": [
        "import numpy as np\n",
        "import random\n"
      ]
    },
    {
      "cell_type": "markdown",
      "source": [
        "## get library files"
      ],
      "metadata": {
        "id": "TYxAO9yTB5ch"
      }
    },
    {
      "cell_type": "code",
      "source": [
        "# get dummy player\n",
        "!rm *.py 2> dumpy\n",
        "\n",
        "!wget https://raw.githubusercontent.com/bugrakoku/classypy/main/ME461Group.py\n",
        "import ME461Group as dumpy\n",
        "!wget https://raw.githubusercontent.com/bugrakoku/classypy/main/ME4612021Fproject.py\n",
        "from ME4612021Fproject import *"
      ],
      "metadata": {
        "id": "FHyRTpYWB7WP",
        "outputId": "a5e82b48-bc4c-4835-9c5a-079128e40b0a",
        "colab": {
          "base_uri": "https://localhost:8080/"
        }
      },
      "execution_count": null,
      "outputs": [
        {
          "output_type": "stream",
          "name": "stdout",
          "text": [
            "--2022-02-15 16:07:56--  https://raw.githubusercontent.com/bugrakoku/classypy/main/ME461Group.py\n",
            "Resolving raw.githubusercontent.com (raw.githubusercontent.com)... 185.199.108.133, 185.199.109.133, 185.199.110.133, ...\n",
            "Connecting to raw.githubusercontent.com (raw.githubusercontent.com)|185.199.108.133|:443... connected.\n",
            "HTTP request sent, awaiting response... 200 OK\n",
            "Length: 2063 (2.0K) [text/plain]\n",
            "Saving to: ‘ME461Group.py’\n",
            "\n",
            "\rME461Group.py         0%[                    ]       0  --.-KB/s               \rME461Group.py       100%[===================>]   2.01K  --.-KB/s    in 0s      \n",
            "\n",
            "2022-02-15 16:07:56 (40.6 MB/s) - ‘ME461Group.py’ saved [2063/2063]\n",
            "\n",
            "--2022-02-15 16:07:57--  https://raw.githubusercontent.com/bugrakoku/classypy/main/ME4612021Fproject.py\n",
            "Resolving raw.githubusercontent.com (raw.githubusercontent.com)... 185.199.108.133, 185.199.111.133, 185.199.109.133, ...\n",
            "Connecting to raw.githubusercontent.com (raw.githubusercontent.com)|185.199.108.133|:443... connected.\n",
            "HTTP request sent, awaiting response... 200 OK\n",
            "Length: 19539 (19K) [text/plain]\n",
            "Saving to: ‘ME4612021Fproject.py’\n",
            "\n",
            "ME4612021Fproject.p 100%[===================>]  19.08K  --.-KB/s    in 0.001s  \n",
            "\n",
            "2022-02-15 16:07:57 (21.5 MB/s) - ‘ME4612021Fproject.py’ saved [19539/19539]\n",
            "\n"
          ]
        }
      ]
    },
    {
      "cell_type": "markdown",
      "source": [
        ""
      ],
      "metadata": {
        "id": "9KcZvCvdByY3"
      }
    },
    {
      "cell_type": "code",
      "source": [
        "from ducati import *"
      ],
      "metadata": {
        "id": "xZ6-85_c8DVv"
      },
      "execution_count": null,
      "outputs": []
    },
    {
      "cell_type": "markdown",
      "source": [
        "# START The GAME: generate users and intialize them \n",
        "the following seciton is for demostration purposes as of now, during evaluation, the dummy player will be replaced with instances of your class.  \n",
        "\n",
        "Start by setting up the board for a brand new game"
      ],
      "metadata": {
        "id": "j6jyhwJny95N"
      }
    },
    {
      "cell_type": "code",
      "source": [
        "# initial points in the game for each player\n",
        "Pinit = 301\n",
        "# groups names\n",
        "group_names = ['atlas', 'backspacex', 'ducati', 'hepsi1', 'mechrix', 'meturoam', 'nebula', 'ohmygroup', 'tulumba']\n",
        "group_names = ['ducati'] \n",
        "Players = {}\n",
        "playerID = [x for x in range(len(group_names))] # generate player IDs\n",
        "random.shuffle(playerID) # shuffle player order\n",
        "\n",
        "# set default player locations, note that playerIDs are randomly ordered\n",
        "initLocs = [(25, 175),(25, 375),(25, 575),(175, 25),(375, 25),(575, 25),(175, 725),(375, 725),(575, 725)]\n",
        "# a summary of the players\n",
        "legend = f'{12*\"8<--\"}\\n\\tGROUP IDS and STARTING LOCATIONS \\n{12*\"8<--\"}\\n'\n",
        "\n",
        "# generate players\n",
        "for gInd, gName in enumerate(group_names):\n",
        "    player = ducati(gName, colorz, maxStep, maxTime) # set the name, color and max step size for the current player\n",
        "    # keep record of player object, player ID, a history list, their current location and current points\n",
        "    Players[gName] = [player, playerID[gInd]+1, [], initLocs[playerID[gInd]], Pinit]\n",
        "\n",
        "# genereate a new game for these players\n",
        "aGame = LetsPlayAGame(Players, initLocs, nCorr, colorz, imSize, digits, maxStep) \n",
        "\n",
        "# the game should be set up, let's plot an informative version of the game board\n",
        "for gInd, gName in enumerate(Players.keys()):\n",
        "    aGame.aMaze.DrawPolyLine(aGame.pmaze, [initLocs[Players[gName][1]-1]], header = digits[Players[gName][1]] )\n",
        "    legend +=f'{\"{0: >10}\".format(gName)} ID = {playerID[gInd]+1}, starting from {initLocs[playerID[gInd]]}\\n'\n",
        "\n",
        "# set figures to plot larger than default\n",
        "plt.rcParams[\"figure.figsize\"] = (15,15)\n",
        "plt.imshow(aGame.pmaze)\n",
        "plt.title('Original Image')\n",
        "# finally print the legend\n",
        "print(legend)\n",
        "ormaze = aGame.pmaze.copy()\n",
        "# in case you want a movie, clear frame images first\n",
        "!rm frame*.png 2>>dumpy\n",
        "# number of nowin sessions\n",
        "numNoWin = 0"
      ],
      "metadata": {
        "id": "PpEaBcGRuwYd",
        "outputId": "0a5468f3-0a47-492f-a560-b5f63ce23e75",
        "colab": {
          "base_uri": "https://localhost:8080/",
          "height": 966
        }
      },
      "execution_count": null,
      "outputs": [
        {
          "output_type": "stream",
          "name": "stdout",
          "text": [
            "8<--8<--8<--8<--8<--8<--8<--8<--8<--8<--8<--8<--\n",
            "\tGROUP IDS and STARTING LOCATIONS \n",
            "8<--8<--8<--8<--8<--8<--8<--8<--8<--8<--8<--8<--\n",
            "    ducati ID = 1, starting from (25, 175)\n",
            "\n"
          ]
        },
        {
          "output_type": "display_data",
          "data": {
            "image/png": "[encoded data removed]",
            "text/plain": [
              "<Figure size 1080x1080 with 1 Axes>"
            ]
          },
          "metadata": {
            "needs_background": "light"
          }
        }
      ]
    },
    {
      "cell_type": "markdown",
      "source": [
        "## Play a single game step\n"
      ],
      "metadata": {
        "id": "FCiRZP9dzbRw"
      }
    },
    {
      "cell_type": "code",
      "source": [
        "debugMode = False\n",
        "numMaxNoPlay = 12\n",
        "win, summary = aGame.PlayAStep(debugMode)\n",
        "\n",
        "if win == []: # oops\n",
        "    print(summary)\n",
        "else:\n",
        "    # perf contains time performance data\n",
        "    if len(win.keys()) == 0:\n",
        "        numNoWin += 1\n",
        "    else: # reset no win counter\n",
        "        numNoWin = 0\n",
        "    # display results\n",
        "    plt.rcParams[\"figure.figsize\"] = (20,15)\n",
        "    plt.imshow(aGame.pmaze)\n",
        "    plt.text(10,10,summary+'\\n')\n",
        "    plt.title(f'Game Step: {aGame.numSteps}\\nBoard: {aGame.numBoards}\\nPoints: {TotalPoints()} / {aGame.aMaze.RemainingPoints()}\\nNo wins:{numNoWin}')\n",
        "    plt.savefig(f'frame{aGame.numSteps-1}.png')\n",
        "  \n",
        "    \n",
        "\n",
        "    if numNoWin >= numMaxNoPlay or  aGame.aMaze.RemainingPoints() == 0: # then we need a new game\n",
        "        if  aGame.aMaze.RemainingPoints() == 0:\n",
        "            print('No bases left, board will be reset')\n",
        "        else:\n",
        "            print('Too many no win games, resetting board next time')\n",
        "        aGame.ResetBoard()\n",
        "        numNoWin = 0\n",
        "\n",
        "\n"
      ],
      "metadata": {
        "cellView": "code",
        "id": "By3X0O0Ezd5H",
        "outputId": "7132f15e-90eb-4fce-b766-250fa7ba3cf8",
        "colab": {
          "base_uri": "https://localhost:8080/",
          "height": 1000
        }
      },
      "execution_count": null,
      "outputs": [
        {
          "output_type": "stream",
          "name": "stdout",
          "text": [
            "[(25, 175), 301]\n",
            "0 3\n",
            "0\n",
            "109\n",
            "[75, 175]\n",
            "[125, 175]\n",
            "[175, 175]\n",
            "[175, 225]\n",
            "[175, 275]\n",
            "0.032317942999725346:0.032317942999725346\n"
          ]
        },
        {
          "output_type": "display_data",
          "data": {
            "image/png": "[encoded data removed]",
            "text/plain": [
              "<Figure size 1440x1080 with 1 Axes>"
            ]
          },
          "metadata": {
            "needs_background": "light"
          }
        }
      ]
    },
    {
      "cell_type": "markdown",
      "source": [
        "# Save the game as an mp4 if desired"
      ],
      "metadata": {
        "id": "ASTANGhr4E0_"
      }
    },
    {
      "cell_type": "code",
      "source": [
        "import moviepy.video.io.ImageSequenceClip\n",
        "\n",
        "def SaveMovie(frames, fps, filename):\n",
        "    clip = moviepy.video.io.ImageSequenceClip.ImageSequenceClip(frames, fps=fps)\n",
        "    #moviepy.video.io.ImageSequenceClip.VideoClip()\n",
        "    clip.write_videofile(filename)\n",
        "\n",
        "frames= []\n",
        "for i in range(aGame.numSteps):\n",
        "    frames.append(f'frame{i}.png')\n",
        "SaveMovie(frames, 3, 'test.mp4')\n",
        "!ls -alh *.mp4"
      ],
      "metadata": {
        "id": "Pt0_KWdP4OQX",
        "colab": {
          "base_uri": "https://localhost:8080/"
        },
        "outputId": "fe7f9242-a8ef-4062-8615-fe6d70f8d9f5"
      },
      "execution_count": null,
      "outputs": [
        {
          "output_type": "stream",
          "name": "stdout",
          "text": [
            "[MoviePy] >>>> Building video test.mp4\n",
            "[MoviePy] Writing video test.mp4\n"
          ]
        },
        {
          "output_type": "stream",
          "name": "stderr",
          "text": [
            "100%|██████████| 19/19 [00:01<00:00, 14.32it/s]\n"
          ]
        },
        {
          "output_type": "stream",
          "name": "stdout",
          "text": [
            "[MoviePy] Done.\n",
            "[MoviePy] >>>> Video ready: test.mp4 \n",
            "\n",
            "-rw-r--r-- 1 root root 42K Feb 13 12:47 test.mp4\n"
          ]
        }
      ]
    },
    {
      "cell_type": "code",
      "source": [
        ""
      ],
      "metadata": {
        "id": "8IfXohko91do"
      },
      "execution_count": null,
      "outputs": []
    }
  ]
}